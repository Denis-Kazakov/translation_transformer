{
 "cells": [
  {
   "cell_type": "markdown",
   "id": "828f4eb8",
   "metadata": {},
   "source": [
    "# MT with transformers\n",
    "I am not using weight tying in this version because source and target vocabulary sizes are different.\n",
    "\n",
    "No label smoothing in this version too."
   ]
  },
  {
   "cell_type": "code",
   "execution_count": 1,
   "id": "75119b5e",
   "metadata": {},
   "outputs": [],
   "source": [
    "import torch\n",
    "import chime\n",
    "from torch.nn import functional as F\n",
    "from torch.nn.utils.rnn import pack_padded_sequence, pad_packed_sequence\n",
    "import json\n",
    "import numpy as np\n",
    "from torch.utils.data import DataLoader, Dataset\n",
    "import matplotlib.pyplot as plt\n",
    "from os.path import join\n",
    "from datetime import datetime\n",
    "import math"
   ]
  },
  {
   "cell_type": "code",
   "execution_count": 2,
   "id": "c914f8ad",
   "metadata": {
    "scrolled": true
   },
   "outputs": [],
   "source": [
    "%load_ext chime"
   ]
  },
  {
   "cell_type": "code",
   "execution_count": 3,
   "id": "c0ddd8e2-b0e5-43e6-98e7-40f1928b922a",
   "metadata": {},
   "outputs": [],
   "source": [
    "device = torch.device('cuda')"
   ]
  },
  {
   "cell_type": "code",
   "execution_count": 4,
   "id": "223ca9b0-3405-4d1d-ae68-d2bd6e63c92a",
   "metadata": {},
   "outputs": [],
   "source": [
    "path = ''"
   ]
  },
  {
   "cell_type": "code",
   "execution_count": 5,
   "id": "032741c3-8213-47c1-a967-47ad57d9632d",
   "metadata": {},
   "outputs": [],
   "source": [
    "with open(join(path, 'vocab_params.json')) as f:\n",
    "    vocab_params = json.load(f)\n",
    "src_vocab_size = vocab_params['src_vocab_size']\n",
    "tgt_vocab_size = vocab_params['tgt_vocab_size']\n",
    "tgt_bos = vocab_params['tgt_bos'] # Index of the <bos> token in the target set\n",
    "tgt_eos = vocab_params['tgt_eos'] # Index of the <eos> token in the target set\n",
    "pad = vocab_params['pad'] # Index of the padding token\n",
    "max_sequence_length = vocab_params['max_sequence_length']"
   ]
  },
  {
   "cell_type": "code",
   "execution_count": 6,
   "id": "1bcf3fac-5521-4ffb-9812-321d41717264",
   "metadata": {},
   "outputs": [
    {
     "data": {
      "text/plain": [
       "['src_train', 'src_val', 'src_test', 'tgt_train', 'tgt_val', 'tgt_test']"
      ]
     },
     "execution_count": 6,
     "metadata": {},
     "output_type": "execute_result"
    }
   ],
   "source": [
    "data = np.load(join(path, 'data.npz'))\n",
    "data.files"
   ]
  },
  {
   "cell_type": "code",
   "execution_count": 7,
   "id": "e70fd210-3698-403e-b092-bb6849bd9ab8",
   "metadata": {},
   "outputs": [],
   "source": [
    "src_train = data['src_train']\n",
    "src_val = data['src_val']\n",
    "src_test = data['src_test']\n",
    "tgt_train = data['tgt_train']\n",
    "tgt_val = data['tgt_val']\n",
    "tgt_test = data['tgt_test']"
   ]
  },
  {
   "cell_type": "code",
   "execution_count": 8,
   "id": "7ba40fde-5df2-4bef-a529-7feb0ffcbe8a",
   "metadata": {},
   "outputs": [],
   "source": [
    "with open(join(path, 'lengths.json')) as f:\n",
    "    lengths = json.load(f)\n",
    "src_lengths_train = lengths['src_lengths_train']\n",
    "src_lengths_val = lengths['src_lengths_val']\n",
    "src_lengths_test = lengths['src_lengths_test']\n",
    "tgt_lengths_train =  lengths['tgt_lengths_train']\n",
    "tgt_lengths_val = lengths['tgt_lengths_val']"
   ]
  },
  {
   "cell_type": "code",
   "execution_count": 9,
   "id": "816ee3be-c345-4410-ba15-d1a98535ed7e",
   "metadata": {},
   "outputs": [],
   "source": [
    "last_model_state_path = join(path, 'last_model_state.pt')\n",
    "best_model_state_path = join(path, 'best_model_state.pt')"
   ]
  },
  {
   "cell_type": "code",
   "execution_count": 10,
   "id": "35722570",
   "metadata": {},
   "outputs": [],
   "source": [
    "class MTDatasetTransformer(Dataset):\n",
    "    def __init__(self, pad, src, tgt=None, train=True, device='cuda'):\n",
    "        '''\n",
    "        src and tgt are numpy arrays with words encoded as sequential numbers in a vocabulary\n",
    "        This version of this class is different from RNN dataset in that it outputs tensors with length masks (as required\n",
    "        by multi-head attention) rather than lists with sequence lengths.\n",
    "        If train == False, target is ignored.\n",
    "        '''\n",
    "        super().__init__()\n",
    "        self.src = torch.tensor(src, device=device)\n",
    "        self.src_mask = self.src == pad\n",
    "        self.train = train\n",
    "        if train:\n",
    "            self.tgt = torch.tensor(tgt, device=device)\n",
    "            self.tgt_mask = self.tgt == pad\n",
    "        \n",
    "    def __len__(self):\n",
    "        return len(self.src)\n",
    "\n",
    "    def __getitem__(self, idx):\n",
    "        if self.train:\n",
    "            return self.src[idx], self.src_mask[idx], self.tgt[idx], self.tgt_mask[idx]\n",
    "        else:\n",
    "            return self.src[idx], self.src_mask[idx]"
   ]
  },
  {
   "cell_type": "code",
   "execution_count": 11,
   "id": "89f82448-4ac2-42c5-9256-9cdf6c1a3b16",
   "metadata": {},
   "outputs": [],
   "source": [
    "class PositionalEncoder(torch.nn.Module):\n",
    "    def __init__(self, d_model, dropout=0.0, max_len=100, device='cuda'):\n",
    "        super().__init__()\n",
    "        self.dropout = torch.nn.Dropout(p=dropout)\n",
    "        position = torch.arange(max_len, device=device).unsqueeze(1) / torch.pow(10000, torch.arange(0, d_model, 2, dtype=torch.float32, device=device) / d_model)\n",
    "        pe = torch.zeros(1, max_len, d_model, device=device)\n",
    "        pe[0, :, 0::2] = torch.sin(position)\n",
    "        pe[0, :, 1::2] = torch.cos(position)\n",
    "        self.register_buffer('pe', pe)\n",
    "\n",
    "    def forward(self, X):\n",
    "        \"\"\"\n",
    "        X shape [batch_size, seq_len, embedding_dim=d_model]\n",
    "        \"\"\"\n",
    "        X = X + self.pe[:, :X.size(1), :]\n",
    "        return self.dropout(X)"
   ]
  },
  {
   "cell_type": "code",
   "execution_count": 12,
   "id": "02b815a2-141f-43f9-a2d2-9afc0b05282a",
   "metadata": {},
   "outputs": [],
   "source": [
    "class ResidNorm(torch.nn.Module):\n",
    "    \"\"\"The residual connection followed by layer normalization.\"\"\"\n",
    "    def __init__(self, norm_shape, dropout, device='cuda'):\n",
    "        super().__init__()\n",
    "        self.dropout = torch.nn.Dropout(dropout)\n",
    "        self.ln = torch.nn.LayerNorm(norm_shape, device=device)\n",
    "\n",
    "    def forward(self, X, Y):\n",
    "        return self.ln(self.dropout(Y) + X)"
   ]
  },
  {
   "cell_type": "code",
   "execution_count": 13,
   "id": "ce873904-65fd-4530-9924-d1421ef5b4bc",
   "metadata": {},
   "outputs": [],
   "source": [
    "class PositionWiseFFN(torch.nn.Module):\n",
    "    \"\"\"The positionwise feed-forward network.\"\"\"\n",
    "    def __init__(self, ffn_num_hiddens, d_model, device='cuda'):\n",
    "        super().__init__()\n",
    "        self.dense1 = torch.nn.Linear(d_model, ffn_num_hiddens, device=device)\n",
    "        self.relu = torch.nn.ReLU()\n",
    "        self.dense2 = torch.nn.Linear(ffn_num_hiddens, d_model, device=device)\n",
    "\n",
    "    def forward(self, X):\n",
    "        return self.dense2(self.relu(self.dense1(X)))"
   ]
  },
  {
   "cell_type": "code",
   "execution_count": 14,
   "id": "d2e96c88-5116-4fcf-8fa7-0cc9c21b505b",
   "metadata": {},
   "outputs": [],
   "source": [
    "class EncoderBlock(torch.nn.Module):\n",
    "    '''Transformer encoder block'''\n",
    "    def __init__(self, d_model, ffn_num_hiddens, num_heads, dropout, device='cuda'):\n",
    "        super().__init__()\n",
    "        self.attention = torch.nn.MultiheadAttention(\n",
    "            embed_dim=d_model,\n",
    "            num_heads=num_heads,\n",
    "            dropout=dropout,\n",
    "            batch_first=True,\n",
    "            device=device\n",
    "        )\n",
    "        self.residnorm1 = ResidNorm(d_model, dropout, device=device)\n",
    "        self.ffn = PositionWiseFFN(ffn_num_hiddens, d_model, device=device)\n",
    "        self.residnorm2 = ResidNorm(d_model, dropout, device=device)\n",
    "\n",
    "    def forward(self, enc_input):\n",
    "        X = enc_input['enc_X']\n",
    "        Y = self.residnorm1(\n",
    "            X, \n",
    "            self.attention(\n",
    "                X, X, X, \n",
    "                key_padding_mask=enc_input['enc_padding_mask'], \n",
    "                need_weights=False, \n",
    "                is_causal=False\n",
    "            )[0]\n",
    "        )\n",
    "        enc_input['enc_X'] = self.residnorm2(Y, self.ffn(Y))\n",
    "        enc_input['enc_padding_mask'] = None\n",
    "        return enc_input"
   ]
  },
  {
   "cell_type": "code",
   "execution_count": 15,
   "id": "840ff8b7-6e09-442d-8cc2-3a65302dbb59",
   "metadata": {},
   "outputs": [],
   "source": [
    "class TransformerEncoder(torch.nn.Module):\n",
    "    \"\"\"The Transformer encoder.\"\"\"\n",
    "    def __init__(self, d_model, ffn_num_hiddens, num_heads, num_blks, dropout, device='cuda'):\n",
    "        super().__init__()\n",
    "        self.d_model = d_model\n",
    "        self.blks = torch.nn.Sequential()\n",
    "        for _ in range(num_blks):\n",
    "            self.blks.append(EncoderBlock(d_model, ffn_num_hiddens, num_heads, dropout, device=device))\n",
    "\n",
    "    def forward(self, enc_input): # enc_input is a tuple containing X and its padding mask\n",
    "        return self.blks(enc_input)"
   ]
  },
  {
   "cell_type": "code",
   "execution_count": 16,
   "id": "e21e11fc-7f22-401c-a18b-2e2cd49819c2",
   "metadata": {},
   "outputs": [],
   "source": [
    "class DecoderBlock(torch.nn.Module):\n",
    "    '''Transformer encoder block'''\n",
    "    def __init__(self, d_model, ffn_num_hiddens, num_heads, dropout, device='cuda'):\n",
    "        super().__init__()\n",
    "        self.self_attention = torch.nn.MultiheadAttention(\n",
    "            embed_dim=d_model,\n",
    "            num_heads=num_heads,\n",
    "            dropout=dropout,\n",
    "            batch_first=True,\n",
    "            device=device\n",
    "        )\n",
    "        self.cross_attention = torch.nn.MultiheadAttention(\n",
    "            embed_dim=d_model,\n",
    "            num_heads=num_heads,\n",
    "            dropout=dropout,\n",
    "            batch_first=True,\n",
    "            device=device\n",
    "        )\n",
    "        self.residnorm1 = ResidNorm(d_model, dropout, device=device)\n",
    "        self.ffn = PositionWiseFFN(ffn_num_hiddens, d_model, device=device)\n",
    "        self.residnorm2 = ResidNorm(d_model, dropout, device=device)\n",
    "        self.residnorm3 = ResidNorm(d_model, dropout, device=device)\n",
    "\n",
    "    def forward(self, dec_input):\n",
    "        dec_X = dec_input['dec_X']\n",
    "        dec_padding_mask = dec_input['dec_padding_mask']\n",
    "        enc_output = dec_input['enc_Y']\n",
    "        attn_mask = torch.full((dec_X.shape[1], dec_X.shape[1]), fill_value=1, device=dec_X.device).triu(diagonal=1) == 1\n",
    "        Y = self.residnorm1(dec_X, self.self_attention(\n",
    "            dec_X, dec_X, dec_X, \n",
    "            key_padding_mask = dec_padding_mask, \n",
    "            attn_mask = attn_mask,\n",
    "            need_weights = False, \n",
    "            is_causal = True\n",
    "        )[0])\n",
    "        Z = self.residnorm2(Y, self.cross_attention(Y, enc_output, enc_output, need_weights=False, is_causal=False)[0])\n",
    "        dec_input['dec_X'] = self.residnorm3(Z, self.ffn(Z))\n",
    "        dec_input['dec_padding_mask'] = None\n",
    "        return dec_input"
   ]
  },
  {
   "cell_type": "code",
   "execution_count": 17,
   "id": "a08fa284-62c9-451e-9935-a89734a7c1bd",
   "metadata": {},
   "outputs": [],
   "source": [
    "class TransformerDecoder(torch.nn.Module):\n",
    "    \"\"\"The Transformer encoder.\"\"\"\n",
    "    def __init__(self, d_model, ffn_num_hiddens, num_heads, num_blks, dropout, device='cuda'):\n",
    "        super().__init__()\n",
    "        self.d_model = d_model\n",
    "        self.blks = torch.nn.Sequential()\n",
    "        for _ in range(num_blks):\n",
    "            self.blks.append(DecoderBlock(d_model, ffn_num_hiddens, num_heads, dropout, device=device))\n",
    "\n",
    "    def forward(self, dec_input):\n",
    "        return self.blks(dec_input)"
   ]
  },
  {
   "cell_type": "code",
   "execution_count": 18,
   "id": "caa455b9-aea3-41fa-93e8-eb35ddfa8b88",
   "metadata": {},
   "outputs": [],
   "source": [
    "class Transformer(torch.nn.Module):\n",
    "    def __init__(self, encoder, decoder, positional_encoder, src_vocab_size, tgt_vocab_size, d_model, pad, dropout, device='cuda'):\n",
    "        super().__init__()\n",
    "        self.d_model = d_model\n",
    "        self.encoder = encoder\n",
    "        self.decoder = decoder\n",
    "        self.positional_encoder = positional_encoder\n",
    "        self.enc_embedding = torch.nn.Embedding(\n",
    "            src_vocab_size, \n",
    "            d_model,\n",
    "            padding_idx=pad,\n",
    "            device=device\n",
    "        )\n",
    "        self.dec_embedding = torch.nn.Embedding(\n",
    "            tgt_vocab_size, \n",
    "            d_model,\n",
    "            padding_idx=pad,\n",
    "            device=device\n",
    "        )\n",
    "        self.linear = torch.nn.Linear(d_model, tgt_vocab_size, device=device)\n",
    "        self.dropout = torch.nn.Dropout(dropout)\n",
    "        self.device=device\n",
    "        self.history = {\n",
    "            'train_loss': [],\n",
    "            'val_loss': [],\n",
    "            'learning_rate': []\n",
    "        }\n",
    "        \n",
    "    def forward(self, enc_X, enc_lengths, dec_X, dec_lengths):\n",
    "        enc_X = self.enc_embedding(enc_X)\n",
    "        enc_X = self.positional_encoder(enc_X * math.sqrt(self.d_model))\n",
    "        dec_X = self.dec_embedding(dec_X)\n",
    "        dec_X = self.positional_encoder(dec_X * math.sqrt(self.d_model))\n",
    "        enc_input = {'enc_X': enc_X, 'enc_padding_mask': enc_lengths}\n",
    "        enc_Y = self.encoder(enc_input)['enc_X']\n",
    "        dec_input = {'enc_Y': enc_Y, 'dec_X': dec_X, 'dec_padding_mask': dec_lengths}\n",
    "        dec_Y = self.decoder(dec_input)['dec_X']\n",
    "        return self.linear(dec_Y)\n",
    "\n",
    "\n",
    "    def plot_history(self, start=0, stop=None, figsize=(8,6)):\n",
    "        x = list(range(len(self.history['train_loss'])))\n",
    "        fig, ax = plt.subplots(figsize=figsize)\n",
    "        ax.minorticks_on()\n",
    "        ax.grid(which='major', linestyle='-', linewidth=0.5, color='black')\n",
    "        ax.grid(which='minor', linestyle=':', linewidth=0.5, color='gray')\n",
    "        ax.set_title('Training history')\n",
    "        plt.plot(x[start:stop], self.history['train_loss'][start:stop], c='blue')\n",
    "        plt.plot(x[start:stop], self.history['val_loss'][start:stop], c='red')\n",
    "\n",
    "    def predict(self, test_dataloader, max_pred_len):\n",
    "        '''\n",
    "        The function returs a list of lists with each inner list containing indexes of translation tokens for a single segment\n",
    "        '''\n",
    "        self.eval()\n",
    "        with torch.no_grad():\n",
    "            outputs = []\n",
    "            for src, src_lengths in test_dataloader:\n",
    "                for enc_X, enc_length in zip(src, src_lengths):\n",
    "                    enc_X = enc_X.unsqueeze(0)\n",
    "                    enc_length = enc_length.unsqueeze(0)\n",
    "                    dec_X = torch.full((1, max_pred_len), fill_value=pad, device=device)\n",
    "                    dec_X[0, 0] = tgt_bos\n",
    "                    dec_lengths = (dec_X == pad)\n",
    "                    for length in range(1, max_pred_len):\n",
    "                        Y = self.forward(enc_X, enc_length, dec_X, dec_lengths)\n",
    "                        Y = Y[0, length-1, :].argmax().item()\n",
    "                        if (Y == tgt_eos) or (Y == pad):\n",
    "                            break\n",
    "                        dec_X[0, length] = Y\n",
    "                        dec_lengths = (dec_X == pad)\n",
    "                    outputs.append(dec_X[0, 1:].tolist())\n",
    "        return outputs"
   ]
  },
  {
   "cell_type": "code",
   "execution_count": 19,
   "id": "8e084dc8-1237-412a-9691-2f377b3cc092",
   "metadata": {},
   "outputs": [],
   "source": [
    "class Sec2SecTrainer():\n",
    "    def __init__(self, optimizer=torch.optim.Adam):\n",
    "        self.optimizer = optimizer\n",
    "        self.loss_fn = torch.nn.CrossEntropyLoss(reduction='mean')\n",
    "\n",
    "    def fit(self, model, train_dataloader, val_dataloader, lr, n_epoch=10, verbosity=1):\n",
    "        print(f\"Start time: {datetime.now()}\")\n",
    "        opt = self.optimizer(model.parameters(), lr=lr)\n",
    "        for epoch in range(n_epoch):\n",
    "            train_loss = 0\n",
    "            val_loss = 0\n",
    "            model.train()\n",
    "            for src, src_lengths, tgt, tgt_lengths in train_dataloader:\n",
    "                # src, tgt shape is (batch_size, seq_len)\n",
    "                # Y_hat shape is (batch_size, seq_len, len_vocab)\n",
    "                # CrossEntropyLoss requires (batch_size, len_vocab, seq_len)\n",
    "                Y_hat = model(src, src_lengths, tgt[:, :-1], tgt_lengths[:, :-1])\n",
    "                Y = tgt[:, 1:] # (batch_size, seq_len)\n",
    "                loss = self.loss_fn(Y_hat.transpose(1, 2), Y)\n",
    "                opt.zero_grad()\n",
    "                #Backprop\n",
    "                with torch.no_grad():\n",
    "                    loss.backward()\n",
    "                    opt.step()\n",
    "                    train_loss += loss.item()\n",
    "            model.eval()\n",
    "            with torch.no_grad():\n",
    "                for src, src_lengths, tgt, tgt_lengths  in val_dataloader:\n",
    "                    Y_hat = model(src, src_lengths, tgt[:, :-1], tgt_lengths[:, :-1])\n",
    "                    Y = tgt[:, 1:] # (batch_size, seq_len)\n",
    "                    val_loss += self.loss_fn(Y_hat.transpose(1, 2), Y).item()\n",
    "                train_loss /= len(train_dataloader)\n",
    "                val_loss /= len(val_dataloader) \n",
    "                model.history['train_loss'].append(train_loss)\n",
    "                model.history['val_loss'].append(val_loss)\n",
    "                model.history['learning_rate'].append(lr)\n",
    "\n",
    "            if epoch % verbosity == 0:\n",
    "                print(f\"Epoch: {epoch}, training loss: {train_loss}, validation loss: {val_loss}, time: {datetime.now()}\")\n",
    "\n",
    "            if model.history['val_loss'][-1] == min(model.history['val_loss']):\n",
    "                torch.save(\n",
    "                    model.state_dict(), \n",
    "                    best_model_state_path)\n",
    "        torch.save(\n",
    "            {\n",
    "                'history': model.history,\n",
    "                'weights': model.state_dict()\n",
    "            }, \n",
    "            last_model_state_path)            "
   ]
  },
  {
   "cell_type": "markdown",
   "id": "034393c8-dc24-4196-8692-77efa2eee7ec",
   "metadata": {},
   "source": [
    "### Hyperparameters"
   ]
  },
  {
   "cell_type": "code",
   "execution_count": 20,
   "id": "80a23142-0c32-44f9-97bb-e334e99e7544",
   "metadata": {},
   "outputs": [],
   "source": [
    "hyperparams = {\n",
    "    'batch_size': 64,\n",
    "    'model_params': {\n",
    "        'd_model': 128,\n",
    "        'ffn_num_hiddens': 256, \n",
    "        'num_heads': 8,\n",
    "        'num_blks': 8,\n",
    "        'dropout': 0.1\n",
    "    }\n",
    "}\n",
    "with open(join(path, 'hyperparams.json'), 'w') as f:\n",
    "    json.dump(hyperparams, f)"
   ]
  },
  {
   "cell_type": "code",
   "execution_count": 21,
   "id": "3d052c93-312d-4602-a5a2-2c552af639d5",
   "metadata": {},
   "outputs": [],
   "source": [
    "train_ds = MTDatasetTransformer(pad, src_train, tgt_train, train=True, device=device)\n",
    "val_ds = MTDatasetTransformer(pad, src_val, tgt_val, train=True, device=device)\n",
    "train_dataloader = DataLoader(train_ds, batch_size=hyperparams['batch_size'], shuffle=True)\n",
    "val_dataloader = DataLoader(val_ds, batch_size=hyperparams['batch_size'], shuffle=False)"
   ]
  },
  {
   "cell_type": "code",
   "execution_count": 22,
   "id": "092cda4b-8f98-427c-aa51-50d3fdd3a1cd",
   "metadata": {},
   "outputs": [],
   "source": [
    "model = Transformer(\n",
    "    encoder=TransformerEncoder(**hyperparams['model_params'], device=device),\n",
    "    decoder=TransformerDecoder(**hyperparams['model_params'], device=device),\n",
    "    positional_encoder=PositionalEncoder(\n",
    "        d_model=hyperparams['model_params']['d_model'],\n",
    "        dropout=hyperparams['model_params']['dropout'], \n",
    "        max_len=100, \n",
    "        device=device\n",
    "    ), \n",
    "    src_vocab_size=src_vocab_size,\n",
    "    tgt_vocab_size=tgt_vocab_size, \n",
    "    pad=pad, \n",
    "    device=device,\n",
    "    d_model=hyperparams['model_params']['d_model'],\n",
    "    dropout=hyperparams['model_params']['dropout']\n",
    ")\n",
    "try:\n",
    "    model_state = torch.load(last_model_state_path)\n",
    "    model.history = model_state['history']\n",
    "    model.load_state_dict(model_state['weights'])\n",
    "except:\n",
    "    pass\n"
   ]
  },
  {
   "cell_type": "code",
   "execution_count": 23,
   "id": "f7a2dd99-eaae-4250-8031-26f5abda51e2",
   "metadata": {},
   "outputs": [],
   "source": [
    "trainer = Sec2SecTrainer()"
   ]
  },
  {
   "cell_type": "code",
   "execution_count": 96,
   "id": "41ec5bdf-1a81-4ea8-90f2-f4891e70f6a6",
   "metadata": {},
   "outputs": [
    {
     "name": "stdout",
     "output_type": "stream",
     "text": [
      "Start time: 2024-01-16 01:01:49.503955\n",
      "Epoch: 0, training loss: 0.105090796196202, validation loss: 0.15633977455234974, time: 2024-01-16 01:14:00.378899\n",
      "CPU times: user 11min 33s, sys: 37.6 s, total: 12min 10s\n",
      "Wall time: 12min 11s\n"
     ]
    }
   ],
   "source": [
    "%%time\n",
    "%%chime\n",
    "trainer.fit(model, train_dataloader, val_dataloader, lr=1e-5, n_epoch=1)"
   ]
  },
  {
   "cell_type": "code",
   "execution_count": 97,
   "id": "bea6d79b-d390-4f48-980e-49824daf0838",
   "metadata": {},
   "outputs": [
    {
     "data": {
      "image/png": "[encoded data removed]",
      "text/plain": [
       "<Figure size 800x600 with 1 Axes>"
      ]
     },
     "metadata": {},
     "output_type": "display_data"
    }
   ],
   "source": [
    "model.plot_history(start=25)"
   ]
  },
  {
   "cell_type": "markdown",
   "id": "0c2f10aa-f43a-44f9-a647-0df2a566dc4f",
   "metadata": {},
   "source": [
    "# Inference"
   ]
  },
  {
   "cell_type": "code",
   "execution_count": 98,
   "id": "acbdccd2-0da9-41aa-9c40-ca4d69fdadf7",
   "metadata": {},
   "outputs": [],
   "source": [
    "import pandas as pd"
   ]
  },
  {
   "cell_type": "code",
   "execution_count": 99,
   "id": "513347fe-043b-4172-98fb-225608efc67d",
   "metadata": {},
   "outputs": [],
   "source": [
    "test_ds = MTDatasetTransformer(pad, src_test, train=False, device=device)\n",
    "test_dataloader = DataLoader(test_ds, batch_size=hyperparams['batch_size'], shuffle=False)"
   ]
  },
  {
   "cell_type": "code",
   "execution_count": 100,
   "id": "5701f9bc-34aa-44ea-bed6-9232e7fdb6de",
   "metadata": {
    "scrolled": true
   },
   "outputs": [
    {
     "data": {
      "text/plain": [
       "<All keys matched successfully>"
      ]
     },
     "execution_count": 100,
     "metadata": {},
     "output_type": "execute_result"
    }
   ],
   "source": [
    "best_model = Transformer(\n",
    "    encoder=TransformerEncoder(**hyperparams['model_params'], device=device),\n",
    "    decoder=TransformerDecoder(**hyperparams['model_params'], device=device),\n",
    "    positional_encoder=PositionalEncoder(\n",
    "        d_model=hyperparams['model_params']['d_model'],\n",
    "        dropout=hyperparams['model_params']['dropout'], \n",
    "        max_len=100, \n",
    "        device=device\n",
    "    ), \n",
    "    src_vocab_size=src_vocab_size,\n",
    "    tgt_vocab_size=tgt_vocab_size, \n",
    "    pad=pad, \n",
    "    device=device,\n",
    "    d_model=hyperparams['model_params']['d_model'],\n",
    "    dropout=hyperparams['model_params']['dropout']\n",
    ")\n",
    "best_model.load_state_dict(torch.load(best_model_state_path))"
   ]
  },
  {
   "cell_type": "code",
   "execution_count": 101,
   "id": "b60feb75-8751-4931-a22a-a659e9c223e1",
   "metadata": {},
   "outputs": [],
   "source": [
    "test_translation = best_model.predict(test_dataloader, max_pred_len=100)"
   ]
  },
  {
   "cell_type": "code",
   "execution_count": 102,
   "id": "3cd32a6c-bf2b-4926-92e2-4f4837a970d2",
   "metadata": {},
   "outputs": [],
   "source": [
    "def decode(sequence, pad, vocab):\n",
    "    '''Index to token conversion'''\n",
    "    if pad in sequence:\n",
    "        sequence = sequence[: sequence.index(pad)]\n",
    "    return ' '.join([vocab.at[index, 'token'] for index in sequence])"
   ]
  },
  {
   "cell_type": "code",
   "execution_count": 103,
   "id": "6baf70d8-c123-4e70-961a-6e2f58331894",
   "metadata": {},
   "outputs": [],
   "source": [
    "tgt_vocab = pd.read_csv('rus_vocab.csv', index_col='idx')"
   ]
  },
  {
   "cell_type": "code",
   "execution_count": 104,
   "id": "6fafa1fe-aa77-4abe-8190-b2a6a86ff72d",
   "metadata": {},
   "outputs": [],
   "source": [
    "df = pd.read_csv('df_test.csv')"
   ]
  },
  {
   "cell_type": "code",
   "execution_count": 105,
   "id": "a7cb1136-7232-4b88-acb2-8a4edcff14c4",
   "metadata": {},
   "outputs": [],
   "source": [
    "df['translation'] = [decode(sentence, pad, tgt_vocab) for sentence in test_translation]"
   ]
  },
  {
   "cell_type": "code",
   "execution_count": 106,
   "id": "d68ccc56-387d-4c09-b097-c546b7ad3513",
   "metadata": {},
   "outputs": [
    {
     "data": {
      "text/html": [
       "<div>\n",
       "<style scoped>\n",
       "    .dataframe tbody tr th:only-of-type {\n",
       "        vertical-align: middle;\n",
       "    }\n",
       "\n",
       "    .dataframe tbody tr th {\n",
       "        vertical-align: top;\n",
       "    }\n",
       "\n",
       "    .dataframe thead th {\n",
       "        text-align: right;\n",
       "    }\n",
       "</style>\n",
       "<table border=\"1\" class=\"dataframe\">\n",
       "  <thead>\n",
       "    <tr style=\"text-align: right;\">\n",
       "      <th></th>\n",
       "      <th>en</th>\n",
       "      <th>ru</th>\n",
       "      <th>translation</th>\n",
       "    </tr>\n",
       "  </thead>\n",
       "  <tbody>\n",
       "    <tr>\n",
       "      <th>0</th>\n",
       "      <td>Tell them what I told you.</td>\n",
       "      <td>Скажите им, что я вам сказала.</td>\n",
       "      <td>скажи им то , что я тебе сказал .</td>\n",
       "    </tr>\n",
       "    <tr>\n",
       "      <th>1</th>\n",
       "      <td>This year, I don't want to celebrate my birthday.</td>\n",
       "      <td>В этом году я не хочу праздновать свой день ро...</td>\n",
       "      <td>в этом году я не хочу отмечать день рождения .</td>\n",
       "    </tr>\n",
       "    <tr>\n",
       "      <th>2</th>\n",
       "      <td>Tom couldn't remember where he'd parked his car.</td>\n",
       "      <td>Том не смог вспомнить, где припарковал машину.</td>\n",
       "      <td>том не мог вспомнить , где припарковал машину .</td>\n",
       "    </tr>\n",
       "    <tr>\n",
       "      <th>3</th>\n",
       "      <td>Tom wasn't the first person to tell me that.</td>\n",
       "      <td>Том был не первым, кто мне это сказал.</td>\n",
       "      <td>том не тот человек , который мне это было в пе...</td>\n",
       "    </tr>\n",
       "    <tr>\n",
       "      <th>4</th>\n",
       "      <td>The teacher told me to stand up.</td>\n",
       "      <td>Учительница сказала мне встать.</td>\n",
       "      <td>учитель сказал мне встать .</td>\n",
       "    </tr>\n",
       "    <tr>\n",
       "      <th>...</th>\n",
       "      <td>...</td>\n",
       "      <td>...</td>\n",
       "      <td>...</td>\n",
       "    </tr>\n",
       "    <tr>\n",
       "      <th>95</th>\n",
       "      <td>I have to go meet Tom.</td>\n",
       "      <td>Я должен пойти встретиться с Томом.</td>\n",
       "      <td>мне надо пойти встретить тома .</td>\n",
       "    </tr>\n",
       "    <tr>\n",
       "      <th>96</th>\n",
       "      <td>Tom got very good at it.</td>\n",
       "      <td>Том очень в этом поднаторел.</td>\n",
       "      <td>том в этом очень поднаторел .</td>\n",
       "    </tr>\n",
       "    <tr>\n",
       "      <th>97</th>\n",
       "      <td>When do you use it?</td>\n",
       "      <td>Когда вы ей пользуетесь?</td>\n",
       "      <td>когда ты ей пользуешься ?</td>\n",
       "    </tr>\n",
       "    <tr>\n",
       "      <th>98</th>\n",
       "      <td>It's big.</td>\n",
       "      <td>Она большая.</td>\n",
       "      <td>оно большое .</td>\n",
       "    </tr>\n",
       "    <tr>\n",
       "      <th>99</th>\n",
       "      <td>Do you hate us?</td>\n",
       "      <td>Ты ненавидишь нас?</td>\n",
       "      <td>ты нас ненавидишь ?</td>\n",
       "    </tr>\n",
       "  </tbody>\n",
       "</table>\n",
       "<p>100 rows × 3 columns</p>\n",
       "</div>"
      ],
      "text/plain": [
       "                                                   en  \\\n",
       "0                          Tell them what I told you.   \n",
       "1   This year, I don't want to celebrate my birthday.   \n",
       "2    Tom couldn't remember where he'd parked his car.   \n",
       "3        Tom wasn't the first person to tell me that.   \n",
       "4                    The teacher told me to stand up.   \n",
       "..                                                ...   \n",
       "95                             I have to go meet Tom.   \n",
       "96                           Tom got very good at it.   \n",
       "97                                When do you use it?   \n",
       "98                                          It's big.   \n",
       "99                                    Do you hate us?   \n",
       "\n",
       "                                                   ru  \\\n",
       "0                      Скажите им, что я вам сказала.   \n",
       "1   В этом году я не хочу праздновать свой день ро...   \n",
       "2      Том не смог вспомнить, где припарковал машину.   \n",
       "3              Том был не первым, кто мне это сказал.   \n",
       "4                     Учительница сказала мне встать.   \n",
       "..                                                ...   \n",
       "95                Я должен пойти встретиться с Томом.   \n",
       "96                       Том очень в этом поднаторел.   \n",
       "97                           Когда вы ей пользуетесь?   \n",
       "98                                       Она большая.   \n",
       "99                                 Ты ненавидишь нас?   \n",
       "\n",
       "                                          translation  \n",
       "0                   скажи им то , что я тебе сказал .  \n",
       "1      в этом году я не хочу отмечать день рождения .  \n",
       "2     том не мог вспомнить , где припарковал машину .  \n",
       "3   том не тот человек , который мне это было в пе...  \n",
       "4                         учитель сказал мне встать .  \n",
       "..                                                ...  \n",
       "95                    мне надо пойти встретить тома .  \n",
       "96                      том в этом очень поднаторел .  \n",
       "97                          когда ты ей пользуешься ?  \n",
       "98                                      оно большое .  \n",
       "99                                ты нас ненавидишь ?  \n",
       "\n",
       "[100 rows x 3 columns]"
      ]
     },
     "execution_count": 106,
     "metadata": {},
     "output_type": "execute_result"
    }
   ],
   "source": [
    "df"
   ]
  },
  {
   "cell_type": "code",
   "execution_count": 107,
   "id": "b87de92f-4ef4-4e69-b473-df640377746f",
   "metadata": {},
   "outputs": [],
   "source": [
    "df.to_excel('result.xlsx', index=False)"
   ]
  }
 ],
 "metadata": {
  "kernelspec": {
   "display_name": "Python 3 (ipykernel)",
   "language": "python",
   "name": "python3"
  },
  "language_info": {
   "codemirror_mode": {
    "name": "ipython",
    "version": 3
   },
   "file_extension": ".py",
   "mimetype": "text/x-python",
   "name": "python",
   "nbconvert_exporter": "python",
   "pygments_lexer": "ipython3",
   "version": "3.11.5"
  }
 },
 "nbformat": 4,
 "nbformat_minor": 5
}
